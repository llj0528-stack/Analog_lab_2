{
 "cells": [
  {
   "cell_type": "markdown",
   "id": "ff447112",
   "metadata": {},
   "source": [
    "# Lab 2 Week 3\n",
    "## Exercise 5a\n",
    "- f<sub>T</sub> = 10f<sub>u</sub> > 1GHz\n",
    "- V<sub>SD2</sub> = V<sub>SG2</sub>\n",
    "- maximize A<sub>v</sub>"
   ]
  },
  {
   "cell_type": "markdown",
   "id": "03bb871f",
   "metadata": {},
   "source": [
    "- Algorithm\n",
    "  - Variables: W_p, W_n, L_p, L_n, Vgs_n, Vb(Vsg_p), Vout(Vds_n or Vsd_p)\n",
    "  - Constrains: Vsd_p = Vsg_p, fT_n = fT_p = 1GHz, fu = 0.1GHz\n",
    "  - -> 7 - 4 = 3 variables\n",
    "  - We can choose 3 independent variables: Vout, L_p, L_n"
   ]
  },
  {
   "cell_type": "code",
   "execution_count": 1,
   "id": "2465d360",
   "metadata": {},
   "outputs": [],
   "source": [
    "# Always run this section first\n",
    "import numpy as np\n",
    "import matplotlib.pyplot as plt\n",
    "from look_up import *\n",
    "nch = importdata(\"nch_1v.mat\")\n",
    "pch = importdata(\"pch_1v.mat\")"
   ]
  },
  {
   "cell_type": "markdown",
   "id": "c05b75f9",
   "metadata": {},
   "source": [
    "- try some functions for PMOS, since V<sub>DS</sub> and V<sub>GS</sub> are negative"
   ]
  },
  {
   "cell_type": "code",
   "execution_count": 2,
   "id": "c0f564ad",
   "metadata": {},
   "outputs": [
    {
     "name": "stdout",
     "output_type": "stream",
     "text": [
      "[0.    0.025 0.05  0.075 0.1   0.125 0.15  0.175 0.2   0.225 0.25  0.275\n",
      " 0.3   0.325 0.35  0.375 0.4   0.425 0.45  0.475 0.5   0.525 0.55  0.575\n",
      " 0.6   0.625 0.65  0.675 0.7   0.725 0.75  0.775 0.8   0.825 0.85  0.875\n",
      " 0.9   0.925 0.95  0.975 1.    1.025 1.05  1.075 1.1  ]\n",
      "0.00018873166171191972\n"
     ]
    }
   ],
   "source": [
    "print(pch[\"VDS\"])\n",
    "print(look_up_basic(pch, \"GM\", vds = 0.55, l = 0.18, vsb = 0, vgs = 0.55))"
   ]
  },
  {
   "cell_type": "markdown",
   "id": "39c662df",
   "metadata": {},
   "source": [
    "- In PMOS LUT, use V<sub>SD</sub>, V<sub>SG</sub> and other positive values!!!\n",
    "- The defined funcitons in look_up.py use V<sub>DS</sub> as V<sub>SD</sub> for PMOS"
   ]
  },
  {
   "cell_type": "code",
   "execution_count": 3,
   "id": "d86284e2",
   "metadata": {},
   "outputs": [
    {
     "name": "stdout",
     "output_type": "stream",
     "text": [
      "W_n_optimized =  20.230145613830736 W_p_optimized =  5.789083125863455\n",
      "L_n_optimized =  0.5 L_p_optimized =  0.9\n",
      "Vout_optimized =  0.5499999999999999\n",
      "VSD_p_optimized =  0.5500000000000002 VSG_p_optimized =  0.5500000000000002\n",
      "VDS_n_optimized =  0.5499999999999999 VGS_n_optimized =  0.44188958201757766\n",
      "Av_optimized =  27.198929219565425\n",
      "ID_optimized =  3.744550966651962e-05\n",
      "gm_n_optimized =  0.0006365736643308335\n"
     ]
    }
   ],
   "source": [
    "# Set the parameters\n",
    "fu = 1e8\n",
    "fT = fu*10\n",
    "CL = 1e-12\n",
    "VDD = 1.1\n",
    "Vout_range = np.arange(0.3, 0.7, 0.05) # [0.3, 0.35... 0.695]\n",
    "L_range = nch[\"L\"]\n",
    "gm_ID_range = np.arange(5, 30, 1) # [5, 6... 29]\n",
    "\n",
    "# Define the maxtrices under different Vout and L_n, the maximzied parameter under different gm_ID_n\n",
    "best_L_p_matrix = np.zeros((len(Vout_range)))\n",
    "best_Av_matrix = np.zeros((len(Vout_range), len(L_range)))\n",
    "best_gm_ID_n_matrix = np.zeros((len(Vout_range), len(L_range)))\n",
    "\n",
    "# Sweep over Vout\n",
    "for i in range(len(Vout_range)):\n",
    "    Vout = Vout_range[i]\n",
    "    VSD_p = VDD - Vout\n",
    "    VSG_p = VSD_p\n",
    "    # Find the best length of PMOS\n",
    "    gds_ID_p_vector = look_up_basic(pch, \"GDS_ID\", vds = VSD_p, l = L_range, vsb = 0, vgs = VSG_p) # gds/id under different L_p\n",
    "    fT_p_vector = look_up_basic(pch, \"GM_CGG\", vds = VSD_p, l = L_range, vsb = 0, vgs = VSG_p)/(2*np.pi) # fT under different L_p\n",
    "    \n",
    "    # Find satisfied(maximum) L_p with fT_p > 1GHz, since fT_p is decreasing with L_p increasing\n",
    "    not_empty = 0\n",
    "    for j in range(len(fT_p_vector)):\n",
    "        if fT_p_vector[j] > fT:\n",
    "            best_L_p_matrix[i] = L_range[j]\n",
    "            gds_ID_p_optimized = gds_ID_p_vector[j] # find the last L_p(maximum) that satisfies fT_p > 1GHz\n",
    "            not_empty = 1\n",
    "    \n",
    "    if (not_empty == 0):\n",
    "        gds_ID_p_optimized = float('NaN')\n",
    "        best_L_p_matrix[i] = float('NaN')\n",
    "\n",
    "\n",
    "    # Find the best Av under the optimized L_p\n",
    "    for j in range(len(L_range)):\n",
    "        L_n = L_range[j]\n",
    "        VDS_n = Vout\n",
    "        gds_ID_n_vector = look_up_vs_gm_id(nch, \"GDS_ID\", gm_id=gm_ID_range, vds = VDS_n, l = L_n, vsb = 0) # gds/id under different gm_ID_n\n",
    "        fT_n_vector = look_up_vs_gm_id(nch, \"GM_CGG\", gm_id=gm_ID_range, vds = VDS_n, l = L_n, vsb = 0)/(2*np.pi) # fT under different gm_ID_n\n",
    "        Av_vector = gm_ID_range / (gds_ID_n_vector + gds_ID_p_optimized) # is legal in nparray because gds_ID_p_optimized will be broadcasted into a vector\n",
    "        \n",
    "        # Find gm_ID_n that satisfies fT_n > 1GHz that maximizes Av\n",
    "        not_empty = 0\n",
    "        for k in range(len(fT_n_vector)):\n",
    "            if fT_n_vector[k] > fT:\n",
    "                if Av_vector[k] > best_Av_matrix[i, j]:\n",
    "                    best_Av_matrix[i, j] = Av_vector[k]\n",
    "                    best_gm_ID_n_matrix[i, j] = gm_ID_range[k]\n",
    "                    not_empty = 1\n",
    "        \n",
    "        if (not_empty == 0):\n",
    "            best_Av_matrix[i, j] = float('NaN')\n",
    "            best_gm_ID_n_matrix[i, j] = float('NaN')\n",
    "\n",
    "# find the best Av\n",
    "Vout_optimized_index, L_n_optimized_index = np.unravel_index(np.nanargmax(best_Av_matrix.flatten()), best_Av_matrix.shape)      \n",
    "gm_ID_n_optimized = best_gm_ID_n_matrix[Vout_optimized_index, L_n_optimized_index]\n",
    "L_p_optimized = best_L_p_matrix[Vout_optimized_index]\n",
    "L_n_optimized = L_range[L_n_optimized_index]\n",
    "Vout_optimized = Vout_range[Vout_optimized_index]\n",
    "VSD_p_optimized = VDD - Vout_optimized\n",
    "VSG_p_optimized = VSD_p_optimized\n",
    "VDS_n_optimized = Vout_optimized\n",
    "VGS_n_optimized = look_up_vgs_vs_gm_id(nch, gm_id=gm_ID_n_optimized, vds = VDS_n_optimized, l = L_n_optimized, vsb = 0)\n",
    "Av_optimized = best_Av_matrix[Vout_optimized_index, L_n_optimized_index]\n",
    "\n",
    "# Find the width of the device to satisfy fu > 0.1GHz\n",
    "CDD_W_n = look_up_vs_gm_id(nch, \"CDD_W\", gm_id=gm_ID_n_optimized, vds = Vout_optimized, l = L_n_optimized, vsb = 0)\n",
    "JD_n = look_up_vs_gm_id(nch, \"ID\", gm_id=gm_ID_n_optimized, vds = Vout_optimized, l = L_n_optimized, vsb = 0)\n",
    "CDD_W_p = look_up_basic(pch, \"CDD_W\", vds = VSD_p_optimized, l = L_p_optimized, vsb = 0, vgs = VSG_p_optimized)\n",
    "JD_p = look_up_basic(pch, \"ID\", vds = VSD_p_optimized, l = L_p_optimized, vsb = 0, vgs = VSG_p_optimized)\n",
    "\n",
    "# Iteration to find W_n_optimized and W_p_optimized\n",
    "CDD = 0\n",
    "for i in range(10):\n",
    "    gm_n_optimized = 2*np.pi*fu*(CL+CDD)\n",
    "    ID_optimized = gm_n_optimized/gm_ID_n_optimized\n",
    "    W_n_optimized = ID_optimized/JD_n\n",
    "    W_p_optimized = ID_optimized/JD_p\n",
    "    CDD = CDD_W_n*W_n_optimized + CDD_W_p*W_p_optimized\n",
    "\n",
    "print(\"W_n_optimized = \", W_n_optimized, \"W_p_optimized = \", W_p_optimized)\n",
    "print(\"L_n_optimized = \", L_n_optimized, \"L_p_optimized = \", L_p_optimized)\n",
    "print(\"Vout_optimized = \", Vout_optimized)\n",
    "print(\"VSD_p_optimized = \", VSD_p_optimized, \"VSG_p_optimized = \", VSG_p_optimized)\n",
    "print(\"VDS_n_optimized = \", VDS_n_optimized, \"VGS_n_optimized = \", VGS_n_optimized)\n",
    "print(\"Av_optimized = \", Av_optimized)\n",
    "print(\"ID_optimized = \", ID_optimized)\n",
    "print(\"gm_n_optimized = \", gm_n_optimized)\n",
    "\n"
   ]
  }
 ],
 "metadata": {
  "kernelspec": {
   "display_name": "Python 3 (ipykernel)",
   "language": "python",
   "name": "python3"
  },
  "language_info": {
   "codemirror_mode": {
    "name": "ipython",
    "version": 3
   },
   "file_extension": ".py",
   "mimetype": "text/x-python",
   "name": "python",
   "nbconvert_exporter": "python",
   "pygments_lexer": "ipython3",
   "version": "3.10.18"
  }
 },
 "nbformat": 4,
 "nbformat_minor": 5
}
