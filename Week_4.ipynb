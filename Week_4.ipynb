{
 "cells": [
  {
   "cell_type": "markdown",
   "id": "5b7e313f",
   "metadata": {},
   "source": [
    "# Lab 2 Week 4\n",
    "## Exercise 5(b)\n",
    "- Reuse script from week 3, only need to change VSB\n",
    "- lets leave 0.2V headroom for current morror"
   ]
  },
  {
   "cell_type": "code",
   "execution_count": 1,
   "id": "17a73561",
   "metadata": {},
   "outputs": [],
   "source": [
    "# Always run this section first\n",
    "import numpy as np\n",
    "import matplotlib.pyplot as plt\n",
    "from look_up import *\n",
    "nch = importdata(\"nch_1v.mat\")\n",
    "pch = importdata(\"pch_1v.mat\")"
   ]
  },
  {
   "cell_type": "code",
   "execution_count": 4,
   "id": "e9d20cc5",
   "metadata": {},
   "outputs": [
    {
     "name": "stdout",
     "output_type": "stream",
     "text": [
      "[ 0.05   0.055  0.06   0.08   0.1    0.12   0.14   0.16   0.18   0.2\n",
      "  0.3    0.4    0.5    0.6    0.7    0.8    0.9    1.     2.     3.\n",
      "  4.     5.     6.     7.     8.     9.    10.   ]\n"
     ]
    }
   ],
   "source": [
    "print(nch[\"L\"])"
   ]
  },
  {
   "cell_type": "code",
   "execution_count": 13,
   "id": "cf16fc77",
   "metadata": {},
   "outputs": [
    {
     "name": "stdout",
     "output_type": "stream",
     "text": [
      "W_n_optimized =  19.69951192632042 W_p_optimized =  9.225789097429066\n",
      "L_n_optimized =  0.5 L_p_optimized =  0.8\n",
      "Vout_optimized =  0.5999999999999999\n",
      "VSD_p_optimized =  0.5000000000000002 VSG_p_optimized =  0.5000000000000002\n",
      "VDS_n_optimized =  0.39999999999999986 VGS_n_optimized =  0.4746072796112711\n",
      "Av_optimized =  21.260791044942764\n",
      "ID_optimized =  3.749049608052024e-05\n",
      "gm_n_optimized =  0.0006373384333688441\n"
     ]
    }
   ],
   "source": [
    "# Set the parameters\n",
    "fu = 1e8\n",
    "fT = fu*10\n",
    "CL = 1e-12\n",
    "VDD = 1.1\n",
    "VSB = 0.2\n",
    "Vout_range = np.arange(0.3, 0.7, 0.05) # [0.3, 0.35... 0.695]\n",
    "L_range = nch[\"L\"]\n",
    "gm_ID_range = np.arange(5, 30, 1) # [5, 6... 29]\n",
    "\n",
    "# Define the maxtrices under different Vout and L_n, the maximzied parameter under different gm_ID_n\n",
    "best_L_p_matrix = np.zeros((len(Vout_range)))\n",
    "best_Av_matrix = np.zeros((len(Vout_range), len(L_range)))\n",
    "best_gm_ID_n_matrix = np.zeros((len(Vout_range), len(L_range)))\n",
    "\n",
    "# Sweep over Vout\n",
    "for i in range(len(Vout_range)):\n",
    "    Vout = Vout_range[i]\n",
    "    VSD_p = VDD - Vout\n",
    "    VSG_p = VSD_p\n",
    "    # Find the best length of PMOS\n",
    "    gds_ID_p_vector = look_up_basic(pch, \"GDS_ID\", vds = VSD_p, l = L_range, vsb = 0, vgs = VSG_p) # gds/id under different L_p\n",
    "    fT_p_vector = look_up_basic(pch, \"GM_CGG\", vds = VSD_p, l = L_range, vsb = 0, vgs = VSG_p)/(2*np.pi) # fT under different L_p\n",
    "    \n",
    "    # Find satisfied(maximum) L_p with fT_p > 1GHz, since fT_p is decreasing with L_p increasing\n",
    "    not_empty = 0\n",
    "    for j in range(len(fT_p_vector)):\n",
    "        if fT_p_vector[j] > fT:\n",
    "            best_L_p_matrix[i] = L_range[j]\n",
    "            gds_ID_p_optimized = gds_ID_p_vector[j] # find the last L_p(maximum) that satisfies fT_p > 1GHz\n",
    "            not_empty = 1\n",
    "    \n",
    "    if (not_empty == 0):\n",
    "        gds_ID_p_optimized = float('NaN')\n",
    "        best_L_p_matrix[i] = float('NaN')\n",
    "\n",
    "    # Find the best Av under the optimized L_p\n",
    "    for j in range(len(L_range)):\n",
    "        L_n = L_range[j]\n",
    "        VDS_n = Vout - VSB\n",
    "        gds_ID_n_vector = look_up_vs_gm_id(nch, \"GDS_ID\", gm_id=gm_ID_range, vds = VDS_n, l = L_n, vsb = VSB) # gds/id under different gm_ID_n\n",
    "        fT_n_vector = look_up_vs_gm_id(nch, \"GM_CGG\", gm_id=gm_ID_range, vds = VDS_n, l = L_n, vsb = VSB)/(2*np.pi) # fT under different gm_ID_n\n",
    "        Av_vector = gm_ID_range / (gds_ID_n_vector + gds_ID_p_optimized) # is legal in nparray because gds_ID_p_optimized will be broadcasted into a vector\n",
    "        \n",
    "        # Find gm_ID_n that satisfies fT_n > 1GHz that maximizes Av\n",
    "        not_empty = 0\n",
    "        for k in range(len(fT_n_vector)):\n",
    "            if fT_n_vector[k] > fT:\n",
    "                if Av_vector[k] > best_Av_matrix[i, j]:\n",
    "                    best_Av_matrix[i, j] = Av_vector[k]\n",
    "                    best_gm_ID_n_matrix[i, j] = gm_ID_range[k]\n",
    "                    not_empty = 1\n",
    "        \n",
    "        if (not_empty == 0):\n",
    "            best_Av_matrix[i, j] = float('NaN')\n",
    "            best_gm_ID_n_matrix[i, j] = float('NaN')\n",
    "\n",
    "# find the best Av\n",
    "Vout_optimized_index, L_n_optimized_index = np.unravel_index(np.nanargmax(best_Av_matrix.flatten()), best_Av_matrix.shape)      \n",
    "gm_ID_n_optimized = best_gm_ID_n_matrix[Vout_optimized_index, L_n_optimized_index]\n",
    "L_p_optimized = best_L_p_matrix[Vout_optimized_index]\n",
    "L_n_optimized = L_range[L_n_optimized_index]\n",
    "Vout_optimized = Vout_range[Vout_optimized_index]\n",
    "VSD_p_optimized = VDD - Vout_optimized\n",
    "VSG_p_optimized = VSD_p_optimized\n",
    "VDS_n_optimized = Vout_optimized - VSB\n",
    "VGS_n_optimized = look_up_vgs_vs_gm_id(nch, gm_id=gm_ID_n_optimized, vds = VDS_n_optimized, l = L_n_optimized, vsb = VSB)\n",
    "Av_optimized = best_Av_matrix[Vout_optimized_index, L_n_optimized_index]\n",
    "\n",
    "# Find the width of the device to satisfy fu > 0.1GHz\n",
    "CDD_W_n = look_up_vs_gm_id(nch, \"CDD_W\", gm_id=gm_ID_n_optimized, vds = Vout_optimized, l = L_n_optimized, vsb = VSB)\n",
    "JD_n = look_up_vs_gm_id(nch, \"ID\", gm_id=gm_ID_n_optimized, vds = Vout_optimized, l = L_n_optimized, vsb = VSB)\n",
    "CDD_W_p = look_up_basic(pch, \"CDD_W\", vds = VSD_p_optimized, l = L_p_optimized, vsb = 0, vgs = VSG_p_optimized)\n",
    "JD_p = look_up_basic(pch, \"ID\", vds = VSD_p_optimized, l = L_p_optimized, vsb = 0, vgs = VSG_p_optimized)\n",
    "\n",
    "# Iteration to find W_n_optimized and W_p_optimized\n",
    "CDD = 0\n",
    "for i in range(10):\n",
    "    gm_n_optimized = 2*np.pi*fu*(CL+CDD)\n",
    "    ID_optimized = gm_n_optimized/gm_ID_n_optimized\n",
    "    W_n_optimized = ID_optimized/JD_n\n",
    "    W_p_optimized = ID_optimized/JD_p\n",
    "    CDD = CDD_W_n*W_n_optimized + CDD_W_p*W_p_optimized\n",
    "\n",
    "print(\"W_n_optimized = \", W_n_optimized, \"W_p_optimized = \", W_p_optimized)\n",
    "print(\"L_n_optimized = \", L_n_optimized, \"L_p_optimized = \", L_p_optimized)\n",
    "print(\"Vout_optimized = \", Vout_optimized)\n",
    "print(\"VSD_p_optimized = \", VSD_p_optimized, \"VSG_p_optimized = \", VSG_p_optimized)\n",
    "print(\"VDS_n_optimized = \", VDS_n_optimized, \"VGS_n_optimized = \", VGS_n_optimized)\n",
    "print(\"Av_optimized = \", Av_optimized)\n",
    "print(\"ID_optimized = \", ID_optimized)\n",
    "print(\"gm_n_optimized = \", gm_n_optimized)\n",
    "\n"
   ]
  },
  {
   "cell_type": "markdown",
   "id": "9da60769",
   "metadata": {},
   "source": [
    "- Design the tail current and current mirror\n",
    "- Since Vth ~ 0.425V, VGS = 0.6V would be a good choice for the current mirror to match\n",
    "- Choose a bigger L for current mirror to match, as lambda ~1/L. Let's say 10 um"
   ]
  },
  {
   "cell_type": "code",
   "execution_count": 10,
   "id": "8e420ac1",
   "metadata": {},
   "outputs": [
    {
     "name": "stdout",
     "output_type": "stream",
     "text": [
      "W_t2 =  69.9379015997926\n",
      "W_t1 =  69.9379015997926\n",
      "IREF =  7.484396679252862e-05\n",
      "ID_t1 =  8.4186968637645e-05\n",
      "ID_t2 =  7.484396679252862e-05\n"
     ]
    }
   ],
   "source": [
    "# t2 MOS\n",
    "VDS_t2 = 0.2\n",
    "VGS_t2 = 0.6\n",
    "IDS_t2 = 2*ID_optimized\n",
    "JD_t2 = look_up_basic(nch, \"ID\", vds = VDS_t2, l = 10, vsb = 0, vgs = VGS_t2)\n",
    "W_t2 = IDS_t2/JD_t2\n",
    "\n",
    "# t1 MOS\n",
    "W_t1 = W_t2\n",
    "VGS_t1 = VGS_t2\n",
    "VDS_t1 = VGS_t1\n",
    "JD_t1 = look_up_basic(nch, \"ID\", vds = VDS_t1, l = 10, vsb = 0, vgs = VGS_t1)\n",
    "ID_t1 = JD_t1*W_t1\n",
    "\n",
    "#print the results\n",
    "print(\"W_t2 = \", W_t2)\n",
    "print(\"W_t1 = \", W_t2)\n",
    "print(\"IREF = \", IDS_t2)\n",
    "print(\"ID_t1 = \", ID_t1)\n",
    "print(\"ID_t2 = \", IDS_t2)\n",
    "\n"
   ]
  }
 ],
 "metadata": {
  "kernelspec": {
   "display_name": "ml",
   "language": "python",
   "name": "python3"
  },
  "language_info": {
   "codemirror_mode": {
    "name": "ipython",
    "version": 3
   },
   "file_extension": ".py",
   "mimetype": "text/x-python",
   "name": "python",
   "nbconvert_exporter": "python",
   "pygments_lexer": "ipython3",
   "version": "3.10.18"
  }
 },
 "nbformat": 4,
 "nbformat_minor": 5
}
